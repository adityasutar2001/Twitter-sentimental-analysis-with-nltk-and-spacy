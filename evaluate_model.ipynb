{
 "cells": [
  {
   "cell_type": "code",
   "execution_count": 1,
   "id": "c629923f",
   "metadata": {},
   "outputs": [
    {
     "name": "stderr",
     "output_type": "stream",
     "text": [
      "C:\\ProgramData\\anaconda3\\Lib\\site-packages\\pandas\\core\\arrays\\masked.py:60: UserWarning: Pandas requires version '1.3.6' or newer of 'bottleneck' (version '1.3.5' currently installed).\n",
      "  from pandas.core import (\n"
     ]
    }
   ],
   "source": [
    "import pandas as pd\n",
    "import joblib\n",
    "from sklearn.metrics import accuracy_score, classification_report\n"
   ]
  },
  {
   "cell_type": "code",
   "execution_count": 3,
   "id": "95631a84",
   "metadata": {},
   "outputs": [
    {
     "name": "stderr",
     "output_type": "stream",
     "text": [
      "[nltk_data] Downloading package stopwords to\n",
      "[nltk_data]     C:\\Users\\Administrator\\AppData\\Roaming\\nltk_data...\n",
      "[nltk_data]   Package stopwords is already up-to-date!\n"
     ]
    }
   ],
   "source": [
    "\n",
    "from util.preprocess import clean_text # Import preprocessing\n",
    "\n"
   ]
  },
  {
   "cell_type": "code",
   "execution_count": 5,
   "id": "32b0b6dd",
   "metadata": {},
   "outputs": [
    {
     "name": "stdout",
     "output_type": "stream",
     "text": [
      "✅ Model Accuracy: 0.8133228014744602\n",
      "                    precision    recall  f1-score   support\n",
      "\n",
      "Extremely Negative       0.91      0.73      0.81       592\n",
      "Extremely Positive       0.91      0.76      0.83       599\n",
      "          Negative       0.73      0.91      0.81      1041\n",
      "           Neutral       0.89      0.74      0.81       619\n",
      "          Positive       0.78      0.84      0.81       947\n",
      "\n",
      "          accuracy                           0.81      3798\n",
      "         macro avg       0.85      0.80      0.81      3798\n",
      "      weighted avg       0.83      0.81      0.81      3798\n",
      "\n"
     ]
    }
   ],
   "source": [
    "\n",
    "def evaluate_model():\n",
    "    # Load dataset\n",
    "    df = pd.read_csv(\"C:/Users/Administrator/Downloads/Covid_test.csv\")\n",
    "\n",
    "    # Preprocess\n",
    "    df[\"clean_text\"] = df[\"OriginalTweet\"].apply(clean_text)\n",
    "\n",
    "    # Load model & vectorizer\n",
    "    model = joblib.load(\"models/sentiment_model.pkl\")\n",
    "    vectorizer = joblib.load(\"models/vectorizer.pkl\")\n",
    "\n",
    "    X = vectorizer.transform(df[\"clean_text\"])\n",
    "    y = df[\"Sentiment\"]\n",
    "\n",
    "    # Predict\n",
    "    y_pred = model.predict(X)\n",
    "\n",
    "    print(\"✅ Model Accuracy:\", accuracy_score(y, y_pred))\n",
    "    print(classification_report(y, y_pred))\n",
    "\n",
    "evaluate_model()\n"
   ]
  },
  {
   "cell_type": "code",
   "execution_count": 8,
   "id": "eb7b3fce",
   "metadata": {},
   "outputs": [
    {
     "name": "stdout",
     "output_type": "stream",
     "text": [
      "✅ Model Accuracy: 0.8133228014744602\n",
      "                    precision    recall  f1-score   support\n",
      "\n",
      "Extremely Negative       0.91      0.73      0.81       592\n",
      "Extremely Positive       0.91      0.76      0.83       599\n",
      "          Negative       0.73      0.91      0.81      1041\n",
      "           Neutral       0.89      0.74      0.81       619\n",
      "          Positive       0.78      0.84      0.81       947\n",
      "\n",
      "          accuracy                           0.81      3798\n",
      "         macro avg       0.85      0.80      0.81      3798\n",
      "      weighted avg       0.83      0.81      0.81      3798\n",
      "\n"
     ]
    }
   ],
   "source": [
    "evaluate_model()"
   ]
  },
  {
   "cell_type": "code",
   "execution_count": null,
   "id": "c76a989a",
   "metadata": {},
   "outputs": [],
   "source": []
  }
 ],
 "metadata": {
  "kernelspec": {
   "display_name": "Python 3 (ipykernel)",
   "language": "python",
   "name": "python3"
  },
  "language_info": {
   "codemirror_mode": {
    "name": "ipython",
    "version": 3
   },
   "file_extension": ".py",
   "mimetype": "text/x-python",
   "name": "python",
   "nbconvert_exporter": "python",
   "pygments_lexer": "ipython3",
   "version": "3.11.4"
  }
 },
 "nbformat": 4,
 "nbformat_minor": 5
}
