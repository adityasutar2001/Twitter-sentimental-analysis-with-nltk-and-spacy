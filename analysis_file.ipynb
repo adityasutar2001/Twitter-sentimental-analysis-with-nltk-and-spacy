{
 "cells": [
  {
   "cell_type": "code",
   "execution_count": 3,
   "id": "90e07192",
   "metadata": {},
   "outputs": [
    {
     "name": "stdout",
     "output_type": "stream",
     "text": [
      "✅ Analysis complete! Saved as data/Covid_test_analyzed.csv\n"
     ]
    }
   ],
   "source": [
    "import pandas as pd\n",
    "import joblib\n",
    "from util.preprocess import clean_text\n",
    "\n",
    "# Load model & vectorizer\n",
    "model = joblib.load(\"models/sentiment_model.pkl\")\n",
    "vectorizer = joblib.load(\"models/vectorizer.pkl\")\n",
    "\n",
    "# Load dataset\n",
    "df = pd.read_csv(\"C:/Users/Administrator/Downloads/Covid_test.csv\")\n",
    "\n",
    "# Clean text\n",
    "df['clean_text'] = df['OriginalTweet'].apply(clean_text)\n",
    "\n",
    "# Transform\n",
    "X = vectorizer.transform(df['clean_text'])\n",
    "\n",
    "# Predict\n",
    "df['Predicted_Sentiment'] = model.predict(X)\n",
    "\n",
    "# Save new dataset with predictions\n",
    "df.to_csv(\"data/Covid_test_analyzed.csv\", index=False)\n",
    "\n",
    "print(\"✅ Analysis complete! Saved as data/Covid_test_analyzed.csv\")\n"
   ]
  },
  {
   "cell_type": "code",
   "execution_count": null,
   "id": "8bec6138",
   "metadata": {},
   "outputs": [],
   "source": []
  }
 ],
 "metadata": {
  "kernelspec": {
   "display_name": "Python 3 (ipykernel)",
   "language": "python",
   "name": "python3"
  },
  "language_info": {
   "codemirror_mode": {
    "name": "ipython",
    "version": 3
   },
   "file_extension": ".py",
   "mimetype": "text/x-python",
   "name": "python",
   "nbconvert_exporter": "python",
   "pygments_lexer": "ipython3",
   "version": "3.11.4"
  }
 },
 "nbformat": 4,
 "nbformat_minor": 5
}
